{
  "nbformat": 4,
  "nbformat_minor": 0,
  "metadata": {
    "colab": {
      "provenance": [],
      "authorship_tag": "ABX9TyPsJncZPGOTH7kdAsi4UaJZ",
      "include_colab_link": true
    },
    "kernelspec": {
      "name": "python3",
      "display_name": "Python 3"
    },
    "language_info": {
      "name": "python"
    }
  },
  "cells": [
    {
      "cell_type": "markdown",
      "metadata": {
        "id": "view-in-github",
        "colab_type": "text"
      },
      "source": [
        "<a href=\"https://colab.research.google.com/github/lia108/home-work/blob/main/Untitled2.ipynb\" target=\"_parent\"><img src=\"https://colab.research.google.com/assets/colab-badge.svg\" alt=\"Open In Colab\"/></a>"
      ]
    },
    {
      "cell_type": "code",
      "execution_count": 2,
      "metadata": {
        "colab": {
          "base_uri": "https://localhost:8080/"
        },
        "id": "wg4WpFTSKu0D",
        "outputId": "a628febf-32f6-4761-d4fd-40b005262084"
      },
      "outputs": [
        {
          "output_type": "stream",
          "name": "stdout",
          "text": [
            "梁詠淳\n",
            "laura\n",
            "412540451\n",
            "4+1+2+5+4+0+4+5+1\n",
            "26\n"
          ]
        }
      ],
      "source": [
        "print('梁詠淳')\n",
        "print('laura')\n",
        "print('412540451')\n",
        "print('4+1+2+5+4+0+4+5+1')\n",
        "print(4+1+2+5+4+0+4+5+1)"
      ]
    }
  ]
}