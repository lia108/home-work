{
  "nbformat": 4,
  "nbformat_minor": 0,
  "metadata": {
    "colab": {
      "provenance": [],
      "include_colab_link": true
    },
    "kernelspec": {
      "name": "python3",
      "display_name": "Python 3"
    },
    "language_info": {
      "name": "python"
    }
  },
  "cells": [
    {
      "cell_type": "markdown",
      "metadata": {
        "id": "view-in-github",
        "colab_type": "text"
      },
      "source": [
        "<a href=\"https://colab.research.google.com/github/lia108/home-work/blob/main/0311%E9%A1%8C%E7%9B%AE.ipynb\" target=\"_parent\"><img src=\"https://colab.research.google.com/assets/colab-badge.svg\" alt=\"Open In Colab\"/></a>"
      ]
    },
    {
      "cell_type": "markdown",
      "source": [
        "# ***↑請記得更改作業檔名↑***"
      ],
      "metadata": {
        "id": "ITqUefYafqKB"
      }
    },
    {
      "cell_type": "markdown",
      "source": [
        "# **2024/03/11實習課作業**"
      ],
      "metadata": {
        "id": "Ki_37DgQmaaM"
      }
    },
    {
      "cell_type": "markdown",
      "source": [
        "Q1:請嘗試計算梯形面積，上底為6cm，下底為13cm，高度為7cm，求面積為何？(變數名稱可自行定義)"
      ],
      "metadata": {
        "id": "fjqmpVGvmfM1"
      }
    },
    {
      "cell_type": "code",
      "source": [
        "a=6\n",
        "b=13\n",
        "c=7\n",
        "area= (a+b)*c/2\n",
        "print(area)\n"
      ],
      "metadata": {
        "id": "7pAz6z1Om77M",
        "colab": {
          "base_uri": "https://localhost:8080/"
        },
        "outputId": "b0a3b545-4391-4b04-e898-196111da9501"
      },
      "execution_count": 21,
      "outputs": [
        {
          "output_type": "stream",
          "name": "stdout",
          "text": [
            "66.5\n"
          ]
        }
      ]
    },
    {
      "cell_type": "markdown",
      "source": [
        "Q2:請嘗試計算100除以7.5的餘數為何？(變數名稱可自行定義)"
      ],
      "metadata": {
        "id": "Ce6nKFp7nui_"
      }
    },
    {
      "cell_type": "code",
      "source": [
        " a = 100\n",
        " b = 7.5\n",
        "ans = a % b\n",
        "print (ans)"
      ],
      "metadata": {
        "id": "zlAOzhhzmVwq",
        "colab": {
          "base_uri": "https://localhost:8080/"
        },
        "outputId": "0175e4e7-b26b-4f78-e888-16d5764a0973"
      },
      "execution_count": 22,
      "outputs": [
        {
          "output_type": "stream",
          "name": "stdout",
          "text": [
            "2.5\n"
          ]
        }
      ]
    },
    {
      "cell_type": "markdown",
      "source": [
        "Q3:請設定一個變數 x 之值為 「學號後5碼」，並且利用 \"除法求商\" 與 \"除法求餘數\" 的技能，來計算變數 x 已經經過了多少小時、分鐘、秒。 (請依序分別輸出)"
      ],
      "metadata": {
        "id": "47yISoZYaABO"
      }
    },
    {
      "cell_type": "code",
      "source": [
        "#第三題\n",
        "# x 變數為同學的「學號後5碼」\n",
        "x=30029\n",
        "\n",
        "seconds=60\n",
        "minutes=60\n",
        "\n",
        "hours= x//(seconds*minutes)\n",
        "renain_seconds= x%(seconds*minutes)\n",
        "minutes= renain_seconds // seconds\n",
        "seconds =renain_seconds%seconds\n",
        "\n",
        "print(hours)\n",
        "print(minutes)\n",
        "print(seconds)"
      ],
      "metadata": {
        "id": "sLr6uMKFiF79",
        "colab": {
          "base_uri": "https://localhost:8080/"
        },
        "outputId": "0bbb0306-7998-48e8-f53f-81998c6315a3"
      },
      "execution_count": 27,
      "outputs": [
        {
          "output_type": "stream",
          "name": "stdout",
          "text": [
            "8\n",
            "20\n",
            "29\n"
          ]
        }
      ]
    },
    {
      "cell_type": "markdown",
      "source": [
        "Q4:請撰寫一個BMI計算器，請先設定身高、體重、BMI結果這三個變數，最後再輸出BMI結果。(變數名稱可自行定義)\n"
      ],
      "metadata": {
        "id": "ZRWGiFKYc_ww"
      }
    },
    {
      "cell_type": "code",
      "source": [
        "#第四題\n",
        "# BMI公式：體重(kg) / ( 身高(m) * 身高(m) )\n",
        "\n",
        "veight =58\n",
        "height_cm=174\n",
        "height_m= height_cm/100\n",
        "bmi=veight/(height_m*height_m)\n",
        "print(bmi)\n",
        "\n"
      ],
      "metadata": {
        "id": "BpljglYIda4K",
        "colab": {
          "base_uri": "https://localhost:8080/"
        },
        "outputId": "711cfdc1-f465-45d4-f77c-559f4742a629"
      },
      "execution_count": 33,
      "outputs": [
        {
          "output_type": "stream",
          "name": "stdout",
          "text": [
            "19.157088122605362\n"
          ]
        }
      ]
    }
  ]
}