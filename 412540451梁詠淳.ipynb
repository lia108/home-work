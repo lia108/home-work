{
  "nbformat": 4,
  "nbformat_minor": 0,
  "metadata": {
    "colab": {
      "provenance": [],
      "include_colab_link": true
    },
    "kernelspec": {
      "name": "python3",
      "display_name": "Python 3"
    },
    "language_info": {
      "name": "python"
    },
    "accelerator": "GPU",
    "gpuClass": "standard"
  },
  "cells": [
    {
      "cell_type": "markdown",
      "metadata": {
        "id": "view-in-github",
        "colab_type": "text"
      },
      "source": [
        "<a href=\"https://colab.research.google.com/github/lia108/home-work/blob/main/412540451%E6%A2%81%E8%A9%A0%E6%B7%B3.ipynb\" target=\"_parent\"><img src=\"https://colab.research.google.com/assets/colab-badge.svg\" alt=\"Open In Colab\"/></a>"
      ]
    },
    {
      "cell_type": "markdown",
      "source": [
        "#***↑請記得更改作業檔名↑***"
      ],
      "metadata": {
        "id": "a3GfYQu_9t4L"
      }
    },
    {
      "cell_type": "markdown",
      "source": [
        "# **2024/04/29實習課作業(期中考訂正)**"
      ],
      "metadata": {
        "id": "mhL6PrdOkpAX"
      }
    },
    {
      "cell_type": "markdown",
      "source": [
        "◆參考程式碼皆在PPT上。.  !  ."
      ],
      "metadata": {
        "id": "2urWzKOgesuA"
      }
    },
    {
      "cell_type": "markdown",
      "source": [
        "## 試題A"
      ],
      "metadata": {
        "id": "SuClK9q5eeeu"
      }
    },
    {
      "cell_type": "markdown",
      "source": [
        "Q1.Print字串與長度(10%)\n",
        "\n",
        "請嘗試print出使用者input的字串，並依照output要求而輸出該字串與他的長度(需分兩行輸出結果)。"
      ],
      "metadata": {
        "id": "6kIndRntkxK6"
      }
    },
    {
      "cell_type": "code",
      "source": [
        "a = input()\n",
        "b = len(a)\n",
        "print(a)\n",
        "print('{} letters'.format(b))"
      ],
      "metadata": {
        "id": "InA-ad2T4RBN",
        "colab": {
          "base_uri": "https://localhost:8080/"
        },
        "outputId": "8868d309-82e8-4e6e-f455-fb5f69c2106f"
      },
      "execution_count": null,
      "outputs": [
        {
          "output_type": "stream",
          "name": "stdout",
          "text": [
            "panad111222\n",
            "panad111222\n",
            "11 letters\n"
          ]
        }
      ]
    },
    {
      "cell_type": "markdown",
      "source": [
        "Q2.輸出開根號結果並加總(10%)\n",
        "\n",
        "請設計一個程式，讓使用者在同一行依序輸入變數A與變數B兩個值(浮點數型態)，最後再分別輸出兩個該開根號的結果與開根號後的加總結果。\n",
        "\n",
        "\n",
        "\n",
        "★開根號為 0.5 次方"
      ],
      "metadata": {
        "id": "WjMQt3G6mbvY"
      }
    },
    {
      "cell_type": "code",
      "source": [
        "a,b=map(float,input().split())\n",
        "a = a ** 0.5\n",
        "b = b ** 0.5\n",
        "ans = a + b\n",
        "print('a={} b={}'.format(a,b))\n",
        "print('ans={}'.format(ans))"
      ],
      "metadata": {
        "id": "v8RAo79h_IAz",
        "colab": {
          "base_uri": "https://localhost:8080/"
        },
        "outputId": "25a91095-2221-4035-c9ab-e9f1231b5dd8"
      },
      "execution_count": null,
      "outputs": [
        {
          "output_type": "stream",
          "name": "stdout",
          "text": [
            "25 36\n",
            "a=5.0 b=6.0\n",
            "ans=11.0\n"
          ]
        }
      ]
    },
    {
      "cell_type": "markdown",
      "source": [
        "Q3.BMI計算(10%)\n",
        "\n",
        "請設計一個計算BMI的程式，讓使用者在同一行依序輸入浮點數型態的身高(m)與體重(kg)，最後再將BMI的計算結果以「四捨五入」輸出方式，輸出至小數後2位。\n",
        "\n",
        "\n",
        "公式： BMI = 體重(kg) / 身高(m)平方\n",
        "\n",
        "★需要以「四捨五入」輸出方式，將BMI結果輸出至小數後2位。 (round指令)\n",
        "\n",
        "★請勿使用 %格式化至小數後2位，以免結果會不一樣。"
      ],
      "metadata": {
        "id": "Q0iS_QSSck_E"
      }
    },
    {
      "cell_type": "code",
      "source": [
        "h,w=map(float,input().split())\n",
        "bmi = w / (h ** 2)\n",
        "print(round(bmi,2))"
      ],
      "metadata": {
        "id": "f4CEyfuscoYN",
        "colab": {
          "base_uri": "https://localhost:8080/"
        },
        "outputId": "1bf48101-da8b-4e57-ab3f-265479303fa9"
      },
      "execution_count": null,
      "outputs": [
        {
          "output_type": "stream",
          "name": "stdout",
          "text": [
            "1.89 60\n",
            "16.8\n"
          ]
        }
      ]
    },
    {
      "cell_type": "markdown",
      "source": [
        "Q4.學號加總(10%)\n",
        "\n",
        "請設計一個計算學號加總的程式，讓使用者在同一行依序輸入9位數的學號(用空格分開每個數字)，最後再輸出加總的結果。"
      ],
      "metadata": {
        "id": "KqXkmf04cpdg"
      }
    },
    {
      "cell_type": "code",
      "source": [
        "a,b,c,d,e,f,g,h,i = map(int,input().split())\n",
        "sum = a+b+c+d+e+f+g+h+i\n",
        "print(sum)"
      ],
      "metadata": {
        "id": "GVxg9Bkzctes",
        "colab": {
          "base_uri": "https://localhost:8080/"
        },
        "outputId": "dbc9ab46-9f97-43bc-97a0-49b7c381b9c1"
      },
      "execution_count": null,
      "outputs": [
        {
          "output_type": "stream",
          "name": "stdout",
          "text": [
            "6 1 2 6 3 0 0 2 9\n",
            "29\n"
          ]
        }
      ]
    },
    {
      "cell_type": "markdown",
      "source": [
        "Q5.變數值交換(10%)\n",
        "\n",
        "請設計一個程式，讓使用者在同一行依序輸入變數A與變數B的值(整數型態)，最後再輸出兩者變數值的原值與交換的結果(分兩行輸出)。\n",
        "\n",
        "\n",
        "★直接用格式化輸出也可以完成此題～"
      ],
      "metadata": {
        "id": "WAC5rYaYcuNj"
      }
    },
    {
      "cell_type": "code",
      "source": [
        "a,b = map(int,input().split())\n",
        "print('a={} b={}'.format(a,b))\n",
        "print('a={} b={}'.format(b,a))"
      ],
      "metadata": {
        "id": "PXbk40NOcyKy",
        "colab": {
          "base_uri": "https://localhost:8080/"
        },
        "outputId": "758e345b-e981-4854-8cec-eb5f93316482"
      },
      "execution_count": null,
      "outputs": [
        {
          "output_type": "stream",
          "name": "stdout",
          "text": [
            "1 3\n",
            "a=1 b=3\n",
            "a=3 b=1\n"
          ]
        }
      ]
    },
    {
      "cell_type": "markdown",
      "source": [
        "\n",
        "\n",
        "---\n",
        "\n"
      ],
      "metadata": {
        "id": "MJwTppdBd9FT"
      }
    },
    {
      "cell_type": "markdown",
      "source": [
        "## 試題 B"
      ],
      "metadata": {
        "id": "hM8152aRem39"
      }
    },
    {
      "cell_type": "markdown",
      "source": [
        "Q6.print文字&轉換大小寫(10%)\n",
        "\n",
        "請print出使用者input的字串，並將字串中每個字母轉換為大寫，分兩行輸出。"
      ],
      "metadata": {
        "id": "eEV0H2lMczL4"
      }
    },
    {
      "cell_type": "code",
      "source": [
        "a = input()\n",
        "print(a)\n",
        "print(a.upper())"
      ],
      "metadata": {
        "id": "XEiP-EXzc3fQ",
        "colab": {
          "base_uri": "https://localhost:8080/"
        },
        "outputId": "af7b8885-69aa-4791-898d-b292ba4cf62d"
      },
      "execution_count": null,
      "outputs": [
        {
          "output_type": "stream",
          "name": "stdout",
          "text": [
            "panda panda panda\n",
            "panda panda panda\n",
            "PANDA PANDA PANDA\n"
          ]
        }
      ]
    },
    {
      "cell_type": "markdown",
      "source": [
        "Q7.BMI計算(10%)\n",
        "\n",
        "請設計一個計算BMI的程式，讓使用者在同一行依序輸入浮點數型態的身高(m)與體重(kg)，最後再將BMI的計算結果以「%格式化」輸出方式，輸出至小數後1位。\n",
        "\n",
        "\n",
        "\n",
        "公式： BMI = 體重(kg) / 身高(m)平方\n",
        "\n",
        "★需要以「%格式化」輸出方式，將BMI結果輸出至小數後1位。 (%.f指令)"
      ],
      "metadata": {
        "id": "n0EMz35gc4i5"
      }
    },
    {
      "cell_type": "code",
      "source": [
        "h,w=map(float,input().split())\n",
        "bmi = w / (h ** 2)\n",
        "print('%1.f' % bmi)"
      ],
      "metadata": {
        "id": "EMjuZ_2WdApY",
        "colab": {
          "base_uri": "https://localhost:8080/"
        },
        "outputId": "00abbf67-bc31-475f-97c8-3af02c778b31"
      },
      "execution_count": null,
      "outputs": [
        {
          "output_type": "stream",
          "name": "stdout",
          "text": [
            "1.77 68.4\n",
            "22\n"
          ]
        }
      ]
    },
    {
      "cell_type": "markdown",
      "source": [
        "Q8.取得字串長度並平方(10%)\n",
        "\n",
        "使用者輸入一個字串，然後計算該字符串的長度。接著，將這個長度的數值平方計算，最後計算平方後的結果。"
      ],
      "metadata": {
        "id": "hxsR_77JdBVj"
      }
    },
    {
      "cell_type": "code",
      "source": [
        "a = input()\n",
        "b = len(a) ** 2\n",
        "print(b)"
      ],
      "metadata": {
        "id": "zmDBY0kndGIx",
        "colab": {
          "base_uri": "https://localhost:8080/"
        },
        "outputId": "63d3330e-fa84-47c6-d15b-15d791212bb0"
      },
      "execution_count": null,
      "outputs": [
        {
          "output_type": "stream",
          "name": "stdout",
          "text": [
            "panda\n",
            "25\n"
          ]
        }
      ]
    },
    {
      "cell_type": "markdown",
      "source": [
        "Q9.計算三角形面積(10%)\n",
        "\n",
        "請編寫一個 Python 程式，用以計算三角形的面積。讓使用者分兩行輸入浮點數型態三角形的底和高，將計算結果使用round函數四捨五入至小數點後兩位。\n",
        "\n",
        "三角形面積公式: 面積 = 底 × 高 / 2​\n",
        "\n",
        "★將計算結果使用round函數四捨五入至小數點後兩位。"
      ],
      "metadata": {
        "id": "3cmGC9McdIQQ"
      }
    },
    {
      "cell_type": "code",
      "source": [
        "b = float(input())\n",
        "h = float(input())\n",
        "area = b * h / 2\n",
        "print(round(area,2))"
      ],
      "metadata": {
        "id": "FcACzkYKdKgC",
        "colab": {
          "base_uri": "https://localhost:8080/"
        },
        "outputId": "aa35ad2c-90e5-4f31-c63e-6f4ce4f0ae8d"
      },
      "execution_count": null,
      "outputs": [
        {
          "output_type": "stream",
          "name": "stdout",
          "text": [
            "10\n",
            "8\n",
            "40.0\n"
          ]
        }
      ]
    },
    {
      "cell_type": "markdown",
      "source": [
        "Q10.時間換算器(換算至天)(10%)\n",
        "\n",
        "請設計一個時間換算器的程式，讓使用者輸入總秒數後，並利用 \"除法求商\" 與 \"除法求餘數\" 的技能，來計算已經經過了多少天、小時、分鐘、秒。\n",
        "\n",
        "\n",
        "\n",
        "一天 = 24 小時\n",
        "\n",
        "1小時 = 60 分鐘\n",
        "\n",
        "1分鐘 = 60 秒鐘"
      ],
      "metadata": {
        "id": "q8dFA9u4dMd9"
      }
    },
    {
      "cell_type": "code",
      "source": [
        "x = int(input())\n",
        "s = 60\n",
        "m = 60\n",
        "h = 24\n",
        "days = x // (s * m * h)\n",
        "re = x % (s * m * h)\n",
        "hours = re // (s * m)\n",
        "re = x % (s * m)\n",
        "min = re // s\n",
        "sec = re % s\n",
        "print('{}:{}:{}:{}'.format(days,hours,min,sec))"
      ],
      "metadata": {
        "id": "vRGK07xtdOme",
        "colab": {
          "base_uri": "https://localhost:8080/"
        },
        "outputId": "8d011565-2bab-471a-94f0-7e0f41e750dd"
      },
      "execution_count": null,
      "outputs": [
        {
          "output_type": "stream",
          "name": "stdout",
          "text": [
            "86400\n",
            "1:0:0:0\n"
          ]
        }
      ]
    }
  ]
}