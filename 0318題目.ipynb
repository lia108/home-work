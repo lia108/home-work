{
  "nbformat": 4,
  "nbformat_minor": 0,
  "metadata": {
    "colab": {
      "provenance": [],
      "include_colab_link": true
    },
    "kernelspec": {
      "name": "python3",
      "display_name": "Python 3"
    },
    "language_info": {
      "name": "python"
    }
  },
  "cells": [
    {
      "cell_type": "markdown",
      "metadata": {
        "id": "view-in-github",
        "colab_type": "text"
      },
      "source": [
        "<a href=\"https://colab.research.google.com/github/lia108/home-work/blob/main/0318%E9%A1%8C%E7%9B%AE.ipynb\" target=\"_parent\"><img src=\"https://colab.research.google.com/assets/colab-badge.svg\" alt=\"Open In Colab\"/></a>"
      ]
    },
    {
      "cell_type": "markdown",
      "source": [
        "#***↑請記得更改作業檔名↑***"
      ],
      "metadata": {
        "id": "8LyXK2LBf7qt"
      }
    },
    {
      "cell_type": "markdown",
      "source": [
        "# **2024/03/18實習課作業**"
      ],
      "metadata": {
        "id": "W1PUFhb-pw_y"
      }
    },
    {
      "cell_type": "markdown",
      "source": [
        "Q1:請嘗試寫出一個成績計算機，利用所學的input指令，讓使用者自行輸入國文、英文與數學的成績(皆為整數型態)後，計算並輸出他這三科總分。\n",
        "**(變數命名可自行定義)**"
      ],
      "metadata": {
        "id": "Ce6nKFp7nui_"
      }
    },
    {
      "cell_type": "code",
      "source": [
        "#第一題:總分計算機\n",
        "#公式: 成績 = 國文分數 + 英文分數 + 數學分數\n",
        "chi=int(input(\"請輸入國文成績（整數）：\"))\n",
        "eng=int(input(\"請輸入英文成績（整數）：\"))\n",
        "math=int(input(\"請輸入數學成績（整數）：\"))\n",
        "total=chi+eng+math\n",
        "print(\"您的總分為:％3d\" % total)"
      ],
      "metadata": {
        "id": "zlAOzhhzmVwq",
        "colab": {
          "base_uri": "https://localhost:8080/",
          "height": 233
        },
        "outputId": "a537fb58-1779-4933-b988-deb43d1d4a70"
      },
      "execution_count": 3,
      "outputs": [
        {
          "name": "stdout",
          "output_type": "stream",
          "text": [
            "請輸入國文成績（整數）：90\n",
            "請輸入英文成績（整數）：100\n",
            "請輸入數學成績（整數）：80\n"
          ]
        },
        {
          "output_type": "error",
          "ename": "TypeError",
          "evalue": "not all arguments converted during string formatting",
          "traceback": [
            "\u001b[0;31m---------------------------------------------------------------------------\u001b[0m",
            "\u001b[0;31mTypeError\u001b[0m                                 Traceback (most recent call last)",
            "\u001b[0;32m<ipython-input-3-6db00fd3c21b>\u001b[0m in \u001b[0;36m<cell line: 7>\u001b[0;34m()\u001b[0m\n\u001b[1;32m      5\u001b[0m \u001b[0mmath\u001b[0m\u001b[0;34m=\u001b[0m\u001b[0mint\u001b[0m\u001b[0;34m(\u001b[0m\u001b[0minput\u001b[0m\u001b[0;34m(\u001b[0m\u001b[0;34m\"請輸入數學成績（整數）：\"\u001b[0m\u001b[0;34m)\u001b[0m\u001b[0;34m)\u001b[0m\u001b[0;34m\u001b[0m\u001b[0;34m\u001b[0m\u001b[0m\n\u001b[1;32m      6\u001b[0m \u001b[0mtotal\u001b[0m\u001b[0;34m=\u001b[0m\u001b[0mchi\u001b[0m\u001b[0;34m+\u001b[0m\u001b[0meng\u001b[0m\u001b[0;34m+\u001b[0m\u001b[0mmath\u001b[0m\u001b[0;34m\u001b[0m\u001b[0;34m\u001b[0m\u001b[0m\n\u001b[0;32m----> 7\u001b[0;31m \u001b[0mprint\u001b[0m\u001b[0;34m(\u001b[0m\u001b[0;34m\"您的總分為:％3d\"\u001b[0m \u001b[0;34m%\u001b[0m \u001b[0mtotal\u001b[0m\u001b[0;34m)\u001b[0m\u001b[0;34m\u001b[0m\u001b[0;34m\u001b[0m\u001b[0m\n\u001b[0m",
            "\u001b[0;31mTypeError\u001b[0m: not all arguments converted during string formatting"
          ]
        }
      ]
    },
    {
      "cell_type": "markdown",
      "source": [
        "Q2:蛋薑計程車收費方式為第1公里85元，之後每多1公里需加收30元。請利用所學的input指令，讓使用者自行輸入總公里數(整數型態)後，來計算乘車費用為多少。\n",
        "**(變數命名可自行定義)**"
      ],
      "metadata": {
        "id": "88QRv1gMjbGJ"
      }
    },
    {
      "cell_type": "code",
      "source": [
        "#第二題:計程車費用計算\n",
        "\n",
        "kn=int(input(\"請輸入總公里數（整數）：\"))\n",
        "kn2=kn-1\n",
        "cost=85+kn2*30\n",
        "print(\"總車資為： % 3d 元\"  % cost)"
      ],
      "metadata": {
        "id": "QQMTsmdFjsP0",
        "colab": {
          "base_uri": "https://localhost:8080/"
        },
        "outputId": "384f4187-0c6d-4286-baf3-d501911e8ef7"
      },
      "execution_count": 8,
      "outputs": [
        {
          "output_type": "stream",
          "name": "stdout",
          "text": [
            "請輸入總公里數（整數）：30\n",
            "總車資為：  955 元\n"
          ]
        }
      ]
    },
    {
      "cell_type": "markdown",
      "source": [
        "Q3:請嘗試寫出一個BMI計算機，利用所學的input指令，讓使用者自行輸入身高(cm)與體重(kg)後(皆為浮點數)，計算並輸出他的BMI值至小數後2位。\n",
        "**(變數命名可自行定義)**"
      ],
      "metadata": {
        "id": "fjqmpVGvmfM1"
      }
    },
    {
      "cell_type": "code",
      "source": [
        "#第三題:BMI計算機(1.0)\n",
        "#公式: BMI = 體重(kg) / 身高(m)平方\n",
        "\n",
        "height_cm=float(input(\"請輸入您的身高(cm):\"))\n",
        "veight =float(input(\"請輸入您的體重(kg):\"))\n",
        "height_m= height_cm/100\n",
        "bmi=veight/(height_m**2)\n",
        "print(\"BMI:%3.3f\" % bmi)\n",
        "\n",
        "\n"
      ],
      "metadata": {
        "id": "7pAz6z1Om77M",
        "colab": {
          "base_uri": "https://localhost:8080/"
        },
        "outputId": "48aa540c-206b-4501-b791-ac1b204512a1"
      },
      "execution_count": 9,
      "outputs": [
        {
          "output_type": "stream",
          "name": "stdout",
          "text": [
            "請輸入您的身高(cm):174\n",
            "請輸入您的體重(kg):57\n",
            "BMI:18.827\n"
          ]
        }
      ]
    },
    {
      "cell_type": "markdown",
      "source": [
        "Q4:請改寫第三題。**(變數命名可自行定義)**\n",
        "\n",
        "a.需利用input.split指令來讓使用者在同一行同時輸入身高(cm)與體重(kg)。\n",
        "\n",
        "b.需利用pow函數來計算身高的平方。"
      ],
      "metadata": {
        "id": "FePI2Nhr1_cC"
      }
    },
    {
      "cell_type": "code",
      "source": [
        "#第四題:BMI計算機(2.0)\n",
        "#公式: BMI = 體重(kg) / 身高(m)平方\n",
        "#需利用：input.split與pow函數\n",
        "import math\n",
        "height_cm ,veight =input().split()\n",
        "height_cm=float(height_cm)\n",
        "veight =float(veight)\n",
        "height_m= height_cm/100\n",
        "bmi=veight/(pow(height_m,2))\n",
        "print(\"BMI:%3.3f\" % bmi)\n",
        "\n",
        "\n"
      ],
      "metadata": {
        "id": "5tcWLib92WGX",
        "colab": {
          "base_uri": "https://localhost:8080/"
        },
        "outputId": "6a534853-4fa4-4142-aae7-d916897ffea0"
      },
      "execution_count": 17,
      "outputs": [
        {
          "output_type": "stream",
          "name": "stdout",
          "text": [
            "174 57\n",
            "BMI:18.827\n"
          ]
        }
      ]
    }
  ]
}