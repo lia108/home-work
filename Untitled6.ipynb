{
  "nbformat": 4,
  "nbformat_minor": 0,
  "metadata": {
    "colab": {
      "provenance": [],
      "authorship_tag": "ABX9TyNdEuPK4LpAa9Yy9xXaeUJk",
      "include_colab_link": true
    },
    "kernelspec": {
      "name": "python3",
      "display_name": "Python 3"
    },
    "language_info": {
      "name": "python"
    }
  },
  "cells": [
    {
      "cell_type": "markdown",
      "metadata": {
        "id": "view-in-github",
        "colab_type": "text"
      },
      "source": [
        "<a href=\"https://colab.research.google.com/github/lia108/home-work/blob/main/Untitled6.ipynb\" target=\"_parent\"><img src=\"https://colab.research.google.com/assets/colab-badge.svg\" alt=\"Open In Colab\"/></a>"
      ]
    },
    {
      "cell_type": "code",
      "execution_count": 11,
      "metadata": {
        "colab": {
          "base_uri": "https://localhost:8080/"
        },
        "id": "ogzgtlTC3dGo",
        "outputId": "595c82e5-51ca-477b-f7d6-cc3d51d7d2e0"
      },
      "outputs": [
        {
          "output_type": "stream",
          "name": "stdout",
          "text": [
            "請輸入年數：6\n",
            "6年後本金為：119405.22965290002 元\n",
            "6年後本金為：119405.22965290002  元\n"
          ]
        }
      ],
      "source": [
        "deposit= 100000\n",
        "N = int(input(\"請輸入年數：\"))\n",
        "times =  (1+0.03) ** N\n",
        "result = deposit * times\n",
        "print(\"%d年後本金為：%s 元\"  %   (Ｎ,result))\n",
        "print(\"{}年後本金為：{}  元\" .format (Ｎ,result))\n"
      ]
    },
    {
      "cell_type": "code",
      "source": [
        "km=int(input(\"請輸入公里數（學號後五碼）：\"))\n",
        "fee = 140 + (km - 2) * 40\n",
        "print(\"總車資費為：%d  元\" % fee)\n",
        "print(\"總車資費為：{}  元\".format (fee))"
      ],
      "metadata": {
        "colab": {
          "base_uri": "https://localhost:8080/"
        },
        "id": "Yke6PPM4vGLy",
        "outputId": "2e97e2df-08ca-412c-80d8-f7c5ce3376bc"
      },
      "execution_count": 32,
      "outputs": [
        {
          "output_type": "stream",
          "name": "stdout",
          "text": [
            "請輸入公里數（學號後五碼）：40451\n",
            "總車資費為：1618100  元\n",
            "總車資費為：1618100  元\n"
          ]
        }
      ]
    },
    {
      "cell_type": "code",
      "source": [],
      "metadata": {
        "id": "wZFvcGy-yCGc"
      },
      "execution_count": null,
      "outputs": []
    }
  ]
}