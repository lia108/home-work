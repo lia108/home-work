{
  "nbformat": 4,
  "nbformat_minor": 0,
  "metadata": {
    "colab": {
      "provenance": [],
      "authorship_tag": "ABX9TyO0+Jh8IB0hGsuW/6msqGLG",
      "include_colab_link": true
    },
    "kernelspec": {
      "name": "python3",
      "display_name": "Python 3"
    },
    "language_info": {
      "name": "python"
    }
  },
  "cells": [
    {
      "cell_type": "markdown",
      "metadata": {
        "id": "view-in-github",
        "colab_type": "text"
      },
      "source": [
        "<a href=\"https://colab.research.google.com/github/lia108/home-work/blob/main/0520.ipynb\" target=\"_parent\"><img src=\"https://colab.research.google.com/assets/colab-badge.svg\" alt=\"Open In Colab\"/></a>"
      ]
    },
    {
      "cell_type": "code",
      "execution_count": 16,
      "metadata": {
        "colab": {
          "base_uri": "https://localhost:8080/"
        },
        "id": "tKc71BFQzurC",
        "outputId": "e21d78d5-bf3d-463e-9d0e-2d313b0cb074"
      },
      "outputs": [
        {
          "output_type": "stream",
          "name": "stdout",
          "text": [
            "34\n",
            "34 體溫正常\n"
          ]
        }
      ],
      "source": [
        "tem=int(input())\n",
        "if(tem>=34 and tem<=37.5):\n",
        "  if(tem>=37.5):\n",
        "    print(' {} 體溫過高'.format(tem))\n",
        "  elif(tem==37 or tem>=37 ):\n",
        "    print('{} 體溫略高'.format(tem))\n",
        "  elif(tem==34 or tem>=34 ):\n",
        "    print('{} 體溫正常'.format(tem))\n",
        "  else:\n",
        "    print('{}體溫異常，重新檢測'.format(tem))\n",
        "else:\n",
        "      print('input error')\n"
      ]
    },
    {
      "cell_type": "code",
      "source": [
        "grades=int (input())\n",
        "if(grades >=0 and grades <=100):\n",
        "  if(grades>=90 ):\n",
        "    print('{} A'.format (grades))\n",
        "  elif(grades==80 or grades>=80 ):\n",
        "    print('{} B'.format (grades))\n",
        "  elif(grades==70 or grades>=70 ):\n",
        "    print('{} c'.format(grades))\n",
        "  elif(grades==60 or grades>-60 ):\n",
        "    print( '{} c'.format(grades))\n",
        "  else:\n",
        "    print('{}E' .format (grades))\n",
        "else:\n",
        "  print('Input Error')"
      ],
      "metadata": {
        "colab": {
          "base_uri": "https://localhost:8080/"
        },
        "id": "fk42WipP1mH7",
        "outputId": "1156bf7e-7061-4db9-f6be-3bf91daf58f3"
      },
      "execution_count": 31,
      "outputs": [
        {
          "output_type": "stream",
          "name": "stdout",
          "text": [
            "88\n",
            "88 B\n"
          ]
        }
      ]
    },
    {
      "cell_type": "code",
      "source": [
        "month=int (input ())\n",
        "if(month >1 and month <=12):\n",
        "  if(month==3 or month==4 or month==5):\n",
        "    print('{} is spring'.format (month))\n",
        "  elif (month==6 or month==7 or month==8):\n",
        "    print('{} is summer'.format(month))\n",
        "  elif(month==9 or month==10 or month==11):\n",
        "    print('{} is autumn'.format (month))\n",
        "  else:\n",
        "    print('{}is winter'.format (month))\n",
        "else:\n",
        "  print('Input Error')"
      ],
      "metadata": {
        "colab": {
          "base_uri": "https://localhost:8080/"
        },
        "id": "X3eENTzN3ou8",
        "outputId": "91fe2a48-cdd4-453d-fae3-47f5819fdf7a"
      },
      "execution_count": 33,
      "outputs": [
        {
          "output_type": "stream",
          "name": "stdout",
          "text": [
            "4\n",
            "4 is spring\n"
          ]
        }
      ]
    }
  ]
}